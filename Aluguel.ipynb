{
  "nbformat": 4,
  "nbformat_minor": 0,
  "metadata": {
    "colab": {
      "name": "Aluguel.ipynb",
      "provenance": [],
      "authorship_tag": "ABX9TyO43wr7cQc6B29fDNb0tTTP",
      "include_colab_link": true
    },
    "kernelspec": {
      "name": "python3",
      "display_name": "Python 3"
    }
  },
  "cells": [
    {
      "cell_type": "markdown",
      "metadata": {
        "id": "view-in-github",
        "colab_type": "text"
      },
      "source": [
        "<a href=\"https://colab.research.google.com/github/estevao-oliveira/Imobiliaria/blob/main/Aluguel.ipynb\" target=\"_parent\"><img src=\"https://colab.research.google.com/assets/colab-badge.svg\" alt=\"Open In Colab\"/></a>"
      ]
    },
    {
      "cell_type": "markdown",
      "metadata": {
        "id": "tDpS4Q21r6Mc"
      },
      "source": [
        "# Importando a Base de dados"
      ]
    },
    {
      "cell_type": "code",
      "metadata": {
        "id": "f3Hepi5hzZEY"
      },
      "source": [
        "import pandas as pd # biblioteca"
      ],
      "execution_count": 12,
      "outputs": []
    },
    {
      "cell_type": "code",
      "metadata": {
        "colab": {
          "base_uri": "https://localhost:8080/",
          "height": 391
        },
        "id": "bRzuRTmezbJa",
        "outputId": "403d86f3-38ac-4230-cbeb-dbb6ed84a5ce"
      },
      "source": [
        "pd.read_csv('aluguel.csv', sep = ';') # importando arquivo csv"
      ],
      "execution_count": 13,
      "outputs": [
        {
          "output_type": "execute_result",
          "data": {
            "text/html": [
              "<div>\n",
              "<style scoped>\n",
              "    .dataframe tbody tr th:only-of-type {\n",
              "        vertical-align: middle;\n",
              "    }\n",
              "\n",
              "    .dataframe tbody tr th {\n",
              "        vertical-align: top;\n",
              "    }\n",
              "\n",
              "    .dataframe thead th {\n",
              "        text-align: right;\n",
              "    }\n",
              "</style>\n",
              "<table border=\"1\" class=\"dataframe\">\n",
              "  <thead>\n",
              "    <tr style=\"text-align: right;\">\n",
              "      <th></th>\n",
              "      <th>Tipo</th>\n",
              "      <th>Bairro</th>\n",
              "      <th>Quartos</th>\n",
              "      <th>Vagas</th>\n",
              "      <th>Suites</th>\n",
              "      <th>Area</th>\n",
              "      <th>Valor</th>\n",
              "      <th>Condominio</th>\n",
              "      <th>IPTU</th>\n",
              "    </tr>\n",
              "  </thead>\n",
              "  <tbody>\n",
              "    <tr>\n",
              "      <th>0</th>\n",
              "      <td>Quitinete</td>\n",
              "      <td>Copacabana</td>\n",
              "      <td>1</td>\n",
              "      <td>0</td>\n",
              "      <td>0</td>\n",
              "      <td>40</td>\n",
              "      <td>1700.0</td>\n",
              "      <td>500.0</td>\n",
              "      <td>60.0</td>\n",
              "    </tr>\n",
              "    <tr>\n",
              "      <th>1</th>\n",
              "      <td>Casa</td>\n",
              "      <td>Jardim Botânico</td>\n",
              "      <td>2</td>\n",
              "      <td>0</td>\n",
              "      <td>1</td>\n",
              "      <td>100</td>\n",
              "      <td>7000.0</td>\n",
              "      <td>NaN</td>\n",
              "      <td>NaN</td>\n",
              "    </tr>\n",
              "    <tr>\n",
              "      <th>2</th>\n",
              "      <td>Conjunto Comercial/Sala</td>\n",
              "      <td>Barra da Tijuca</td>\n",
              "      <td>0</td>\n",
              "      <td>4</td>\n",
              "      <td>0</td>\n",
              "      <td>150</td>\n",
              "      <td>5200.0</td>\n",
              "      <td>4020.0</td>\n",
              "      <td>1111.0</td>\n",
              "    </tr>\n",
              "    <tr>\n",
              "      <th>3</th>\n",
              "      <td>Apartamento</td>\n",
              "      <td>Centro</td>\n",
              "      <td>1</td>\n",
              "      <td>0</td>\n",
              "      <td>0</td>\n",
              "      <td>15</td>\n",
              "      <td>800.0</td>\n",
              "      <td>390.0</td>\n",
              "      <td>20.0</td>\n",
              "    </tr>\n",
              "    <tr>\n",
              "      <th>4</th>\n",
              "      <td>Apartamento</td>\n",
              "      <td>Higienópolis</td>\n",
              "      <td>1</td>\n",
              "      <td>0</td>\n",
              "      <td>0</td>\n",
              "      <td>48</td>\n",
              "      <td>800.0</td>\n",
              "      <td>230.0</td>\n",
              "      <td>NaN</td>\n",
              "    </tr>\n",
              "    <tr>\n",
              "      <th>...</th>\n",
              "      <td>...</td>\n",
              "      <td>...</td>\n",
              "      <td>...</td>\n",
              "      <td>...</td>\n",
              "      <td>...</td>\n",
              "      <td>...</td>\n",
              "      <td>...</td>\n",
              "      <td>...</td>\n",
              "      <td>...</td>\n",
              "    </tr>\n",
              "    <tr>\n",
              "      <th>32955</th>\n",
              "      <td>Quitinete</td>\n",
              "      <td>Centro</td>\n",
              "      <td>0</td>\n",
              "      <td>0</td>\n",
              "      <td>0</td>\n",
              "      <td>27</td>\n",
              "      <td>800.0</td>\n",
              "      <td>350.0</td>\n",
              "      <td>25.0</td>\n",
              "    </tr>\n",
              "    <tr>\n",
              "      <th>32956</th>\n",
              "      <td>Apartamento</td>\n",
              "      <td>Jacarepaguá</td>\n",
              "      <td>3</td>\n",
              "      <td>1</td>\n",
              "      <td>2</td>\n",
              "      <td>78</td>\n",
              "      <td>1800.0</td>\n",
              "      <td>800.0</td>\n",
              "      <td>40.0</td>\n",
              "    </tr>\n",
              "    <tr>\n",
              "      <th>32957</th>\n",
              "      <td>Apartamento</td>\n",
              "      <td>São Francisco Xavier</td>\n",
              "      <td>2</td>\n",
              "      <td>1</td>\n",
              "      <td>0</td>\n",
              "      <td>48</td>\n",
              "      <td>1400.0</td>\n",
              "      <td>509.0</td>\n",
              "      <td>37.0</td>\n",
              "    </tr>\n",
              "    <tr>\n",
              "      <th>32958</th>\n",
              "      <td>Apartamento</td>\n",
              "      <td>Leblon</td>\n",
              "      <td>2</td>\n",
              "      <td>0</td>\n",
              "      <td>0</td>\n",
              "      <td>70</td>\n",
              "      <td>3000.0</td>\n",
              "      <td>760.0</td>\n",
              "      <td>NaN</td>\n",
              "    </tr>\n",
              "    <tr>\n",
              "      <th>32959</th>\n",
              "      <td>Conjunto Comercial/Sala</td>\n",
              "      <td>Centro</td>\n",
              "      <td>0</td>\n",
              "      <td>0</td>\n",
              "      <td>0</td>\n",
              "      <td>250</td>\n",
              "      <td>6500.0</td>\n",
              "      <td>4206.0</td>\n",
              "      <td>1109.0</td>\n",
              "    </tr>\n",
              "  </tbody>\n",
              "</table>\n",
              "<p>32960 rows × 9 columns</p>\n",
              "</div>"
            ],
            "text/plain": [
              "                          Tipo                Bairro  ...  Condominio    IPTU\n",
              "0                    Quitinete            Copacabana  ...       500.0    60.0\n",
              "1                         Casa       Jardim Botânico  ...         NaN     NaN\n",
              "2      Conjunto Comercial/Sala       Barra da Tijuca  ...      4020.0  1111.0\n",
              "3                  Apartamento                Centro  ...       390.0    20.0\n",
              "4                  Apartamento          Higienópolis  ...       230.0     NaN\n",
              "...                        ...                   ...  ...         ...     ...\n",
              "32955                Quitinete                Centro  ...       350.0    25.0\n",
              "32956              Apartamento           Jacarepaguá  ...       800.0    40.0\n",
              "32957              Apartamento  São Francisco Xavier  ...       509.0    37.0\n",
              "32958              Apartamento                Leblon  ...       760.0     NaN\n",
              "32959  Conjunto Comercial/Sala                Centro  ...      4206.0  1109.0\n",
              "\n",
              "[32960 rows x 9 columns]"
            ]
          },
          "metadata": {
            "tags": []
          },
          "execution_count": 13
        }
      ]
    },
    {
      "cell_type": "code",
      "metadata": {
        "id": "Ib6SnI4PztPJ"
      },
      "source": [
        "dados_aluguel = pd.read_csv('aluguel.csv', sep = ';') # colocando nome variavel dados_aluguel"
      ],
      "execution_count": 14,
      "outputs": []
    },
    {
      "cell_type": "code",
      "metadata": {
        "colab": {
          "base_uri": "https://localhost:8080/",
          "height": 191
        },
        "id": "guhX0pYxzzvh",
        "outputId": "1cd6fdbf-0955-461e-9c18-c784319dcff0"
      },
      "source": [
        "dados_aluguel.head() # imprimindo os 5 primeiras linhas da tabela"
      ],
      "execution_count": 15,
      "outputs": [
        {
          "output_type": "execute_result",
          "data": {
            "text/html": [
              "<div>\n",
              "<style scoped>\n",
              "    .dataframe tbody tr th:only-of-type {\n",
              "        vertical-align: middle;\n",
              "    }\n",
              "\n",
              "    .dataframe tbody tr th {\n",
              "        vertical-align: top;\n",
              "    }\n",
              "\n",
              "    .dataframe thead th {\n",
              "        text-align: right;\n",
              "    }\n",
              "</style>\n",
              "<table border=\"1\" class=\"dataframe\">\n",
              "  <thead>\n",
              "    <tr style=\"text-align: right;\">\n",
              "      <th></th>\n",
              "      <th>Tipo</th>\n",
              "      <th>Bairro</th>\n",
              "      <th>Quartos</th>\n",
              "      <th>Vagas</th>\n",
              "      <th>Suites</th>\n",
              "      <th>Area</th>\n",
              "      <th>Valor</th>\n",
              "      <th>Condominio</th>\n",
              "      <th>IPTU</th>\n",
              "    </tr>\n",
              "  </thead>\n",
              "  <tbody>\n",
              "    <tr>\n",
              "      <th>0</th>\n",
              "      <td>Quitinete</td>\n",
              "      <td>Copacabana</td>\n",
              "      <td>1</td>\n",
              "      <td>0</td>\n",
              "      <td>0</td>\n",
              "      <td>40</td>\n",
              "      <td>1700.0</td>\n",
              "      <td>500.0</td>\n",
              "      <td>60.0</td>\n",
              "    </tr>\n",
              "    <tr>\n",
              "      <th>1</th>\n",
              "      <td>Casa</td>\n",
              "      <td>Jardim Botânico</td>\n",
              "      <td>2</td>\n",
              "      <td>0</td>\n",
              "      <td>1</td>\n",
              "      <td>100</td>\n",
              "      <td>7000.0</td>\n",
              "      <td>NaN</td>\n",
              "      <td>NaN</td>\n",
              "    </tr>\n",
              "    <tr>\n",
              "      <th>2</th>\n",
              "      <td>Conjunto Comercial/Sala</td>\n",
              "      <td>Barra da Tijuca</td>\n",
              "      <td>0</td>\n",
              "      <td>4</td>\n",
              "      <td>0</td>\n",
              "      <td>150</td>\n",
              "      <td>5200.0</td>\n",
              "      <td>4020.0</td>\n",
              "      <td>1111.0</td>\n",
              "    </tr>\n",
              "    <tr>\n",
              "      <th>3</th>\n",
              "      <td>Apartamento</td>\n",
              "      <td>Centro</td>\n",
              "      <td>1</td>\n",
              "      <td>0</td>\n",
              "      <td>0</td>\n",
              "      <td>15</td>\n",
              "      <td>800.0</td>\n",
              "      <td>390.0</td>\n",
              "      <td>20.0</td>\n",
              "    </tr>\n",
              "    <tr>\n",
              "      <th>4</th>\n",
              "      <td>Apartamento</td>\n",
              "      <td>Higienópolis</td>\n",
              "      <td>1</td>\n",
              "      <td>0</td>\n",
              "      <td>0</td>\n",
              "      <td>48</td>\n",
              "      <td>800.0</td>\n",
              "      <td>230.0</td>\n",
              "      <td>NaN</td>\n",
              "    </tr>\n",
              "  </tbody>\n",
              "</table>\n",
              "</div>"
            ],
            "text/plain": [
              "                      Tipo           Bairro  ...  Condominio    IPTU\n",
              "0                Quitinete       Copacabana  ...       500.0    60.0\n",
              "1                     Casa  Jardim Botânico  ...         NaN     NaN\n",
              "2  Conjunto Comercial/Sala  Barra da Tijuca  ...      4020.0  1111.0\n",
              "3              Apartamento           Centro  ...       390.0    20.0\n",
              "4              Apartamento     Higienópolis  ...       230.0     NaN\n",
              "\n",
              "[5 rows x 9 columns]"
            ]
          },
          "metadata": {
            "tags": []
          },
          "execution_count": 15
        }
      ]
    },
    {
      "cell_type": "code",
      "metadata": {
        "colab": {
          "base_uri": "https://localhost:8080/"
        },
        "id": "kCh17EIbz2m4",
        "outputId": "15c87a26-f2ad-474c-b48e-081e6c0b859a"
      },
      "source": [
        "dados_aluguel.dtypes # vendo quais os tipos das variaveis"
      ],
      "execution_count": 28,
      "outputs": [
        {
          "output_type": "execute_result",
          "data": {
            "text/plain": [
              "Tipo           object\n",
              "Bairro         object\n",
              "Quartos         int64\n",
              "Vagas           int64\n",
              "Suites          int64\n",
              "Area            int64\n",
              "Valor         float64\n",
              "Condominio    float64\n",
              "IPTU          float64\n",
              "dtype: object"
            ]
          },
          "metadata": {
            "tags": []
          },
          "execution_count": 28
        }
      ]
    },
    {
      "cell_type": "code",
      "metadata": {
        "colab": {
          "base_uri": "https://localhost:8080/"
        },
        "id": "Kjc9I1Ztz8c7",
        "outputId": "a1d6eb1c-b7f0-4acb-85b9-62b7ed57296c"
      },
      "source": [
        "dados_aluguel.info()"
      ],
      "execution_count": 17,
      "outputs": [
        {
          "output_type": "stream",
          "text": [
            "<class 'pandas.core.frame.DataFrame'>\n",
            "RangeIndex: 32960 entries, 0 to 32959\n",
            "Data columns (total 9 columns):\n",
            " #   Column      Non-Null Count  Dtype  \n",
            "---  ------      --------------  -----  \n",
            " 0   Tipo        32960 non-null  object \n",
            " 1   Bairro      32960 non-null  object \n",
            " 2   Quartos     32960 non-null  int64  \n",
            " 3   Vagas       32960 non-null  int64  \n",
            " 4   Suites      32960 non-null  int64  \n",
            " 5   Area        32960 non-null  int64  \n",
            " 6   Valor       32943 non-null  float64\n",
            " 7   Condominio  28867 non-null  float64\n",
            " 8   IPTU        22723 non-null  float64\n",
            "dtypes: float64(3), int64(4), object(2)\n",
            "memory usage: 2.3+ MB\n"
          ],
          "name": "stdout"
        }
      ]
    },
    {
      "cell_type": "code",
      "metadata": {
        "id": "zPdFxrdU0IHX"
      },
      "source": [
        "tipos_de_dados = pd.DataFrame(dados_aluguel.dtypes, columns = ['Tipos de Dados']) # criando um novo dataframe com os tipos e os nomes das variaveis\n",
        "tipos_de_dados.columns.name = \"Variáveis\" #adicionando nome da coluna"
      ],
      "execution_count": 25,
      "outputs": []
    },
    {
      "cell_type": "code",
      "metadata": {
        "colab": {
          "base_uri": "https://localhost:8080/",
          "height": 306
        },
        "id": "DDDTwvK41U-_",
        "outputId": "cacc4456-11c7-44e4-da42-46f4e1e62215"
      },
      "source": [
        "tipos_de_dados"
      ],
      "execution_count": 27,
      "outputs": [
        {
          "output_type": "execute_result",
          "data": {
            "text/html": [
              "<div>\n",
              "<style scoped>\n",
              "    .dataframe tbody tr th:only-of-type {\n",
              "        vertical-align: middle;\n",
              "    }\n",
              "\n",
              "    .dataframe tbody tr th {\n",
              "        vertical-align: top;\n",
              "    }\n",
              "\n",
              "    .dataframe thead th {\n",
              "        text-align: right;\n",
              "    }\n",
              "</style>\n",
              "<table border=\"1\" class=\"dataframe\">\n",
              "  <thead>\n",
              "    <tr style=\"text-align: right;\">\n",
              "      <th>Variáveis</th>\n",
              "      <th>Tipos de Dados</th>\n",
              "    </tr>\n",
              "  </thead>\n",
              "  <tbody>\n",
              "    <tr>\n",
              "      <th>Tipo</th>\n",
              "      <td>object</td>\n",
              "    </tr>\n",
              "    <tr>\n",
              "      <th>Bairro</th>\n",
              "      <td>object</td>\n",
              "    </tr>\n",
              "    <tr>\n",
              "      <th>Quartos</th>\n",
              "      <td>int64</td>\n",
              "    </tr>\n",
              "    <tr>\n",
              "      <th>Vagas</th>\n",
              "      <td>int64</td>\n",
              "    </tr>\n",
              "    <tr>\n",
              "      <th>Suites</th>\n",
              "      <td>int64</td>\n",
              "    </tr>\n",
              "    <tr>\n",
              "      <th>Area</th>\n",
              "      <td>int64</td>\n",
              "    </tr>\n",
              "    <tr>\n",
              "      <th>Valor</th>\n",
              "      <td>float64</td>\n",
              "    </tr>\n",
              "    <tr>\n",
              "      <th>Condominio</th>\n",
              "      <td>float64</td>\n",
              "    </tr>\n",
              "    <tr>\n",
              "      <th>IPTU</th>\n",
              "      <td>float64</td>\n",
              "    </tr>\n",
              "  </tbody>\n",
              "</table>\n",
              "</div>"
            ],
            "text/plain": [
              "Variáveis  Tipos de Dados\n",
              "Tipo               object\n",
              "Bairro             object\n",
              "Quartos             int64\n",
              "Vagas               int64\n",
              "Suites              int64\n",
              "Area                int64\n",
              "Valor             float64\n",
              "Condominio        float64\n",
              "IPTU              float64"
            ]
          },
          "metadata": {
            "tags": []
          },
          "execution_count": 27
        }
      ]
    },
    {
      "cell_type": "code",
      "metadata": {
        "colab": {
          "base_uri": "https://localhost:8080/"
        },
        "id": "k_33kIdv1mlU",
        "outputId": "21134126-6e98-404e-bf46-fe09349a2cb3"
      },
      "source": [
        "print('A base de dados apresenta {} registros (imóveis) e {} variáveis'.format(dados_aluguel.shape[0], dados_aluguel.shape[1]))"
      ],
      "execution_count": 34,
      "outputs": [
        {
          "output_type": "stream",
          "text": [
            "A base de dados apresenta 32960 registros (imóveis) e 9 variáveis\n"
          ],
          "name": "stdout"
        }
      ]
    },
    {
      "cell_type": "markdown",
      "metadata": {
        "id": "fe25a3re5r5F"
      },
      "source": [
        "# Tipos de Imóveis"
      ]
    },
    {
      "cell_type": "code",
      "metadata": {
        "colab": {
          "base_uri": "https://localhost:8080/",
          "height": 191
        },
        "id": "KzCBspNL5wQB",
        "outputId": "fb3a6bfd-dc59-4343-bb34-65c97ab6d571"
      },
      "source": [
        "dados_aluguel.head() "
      ],
      "execution_count": 64,
      "outputs": [
        {
          "output_type": "execute_result",
          "data": {
            "text/html": [
              "<div>\n",
              "<style scoped>\n",
              "    .dataframe tbody tr th:only-of-type {\n",
              "        vertical-align: middle;\n",
              "    }\n",
              "\n",
              "    .dataframe tbody tr th {\n",
              "        vertical-align: top;\n",
              "    }\n",
              "\n",
              "    .dataframe thead th {\n",
              "        text-align: right;\n",
              "    }\n",
              "</style>\n",
              "<table border=\"1\" class=\"dataframe\">\n",
              "  <thead>\n",
              "    <tr style=\"text-align: right;\">\n",
              "      <th></th>\n",
              "      <th>Tipo</th>\n",
              "      <th>Bairro</th>\n",
              "      <th>Quartos</th>\n",
              "      <th>Vagas</th>\n",
              "      <th>Suites</th>\n",
              "      <th>Area</th>\n",
              "      <th>Valor</th>\n",
              "      <th>Condominio</th>\n",
              "      <th>IPTU</th>\n",
              "    </tr>\n",
              "  </thead>\n",
              "  <tbody>\n",
              "    <tr>\n",
              "      <th>0</th>\n",
              "      <td>Quitinete</td>\n",
              "      <td>Copacabana</td>\n",
              "      <td>1</td>\n",
              "      <td>0</td>\n",
              "      <td>0</td>\n",
              "      <td>40</td>\n",
              "      <td>1700.0</td>\n",
              "      <td>500.0</td>\n",
              "      <td>60.0</td>\n",
              "    </tr>\n",
              "    <tr>\n",
              "      <th>1</th>\n",
              "      <td>Casa</td>\n",
              "      <td>Jardim Botânico</td>\n",
              "      <td>2</td>\n",
              "      <td>0</td>\n",
              "      <td>1</td>\n",
              "      <td>100</td>\n",
              "      <td>7000.0</td>\n",
              "      <td>NaN</td>\n",
              "      <td>NaN</td>\n",
              "    </tr>\n",
              "    <tr>\n",
              "      <th>2</th>\n",
              "      <td>Conjunto Comercial/Sala</td>\n",
              "      <td>Barra da Tijuca</td>\n",
              "      <td>0</td>\n",
              "      <td>4</td>\n",
              "      <td>0</td>\n",
              "      <td>150</td>\n",
              "      <td>5200.0</td>\n",
              "      <td>4020.0</td>\n",
              "      <td>1111.0</td>\n",
              "    </tr>\n",
              "    <tr>\n",
              "      <th>3</th>\n",
              "      <td>Apartamento</td>\n",
              "      <td>Centro</td>\n",
              "      <td>1</td>\n",
              "      <td>0</td>\n",
              "      <td>0</td>\n",
              "      <td>15</td>\n",
              "      <td>800.0</td>\n",
              "      <td>390.0</td>\n",
              "      <td>20.0</td>\n",
              "    </tr>\n",
              "    <tr>\n",
              "      <th>4</th>\n",
              "      <td>Apartamento</td>\n",
              "      <td>Higienópolis</td>\n",
              "      <td>1</td>\n",
              "      <td>0</td>\n",
              "      <td>0</td>\n",
              "      <td>48</td>\n",
              "      <td>800.0</td>\n",
              "      <td>230.0</td>\n",
              "      <td>NaN</td>\n",
              "    </tr>\n",
              "  </tbody>\n",
              "</table>\n",
              "</div>"
            ],
            "text/plain": [
              "                      Tipo           Bairro  ...  Condominio    IPTU\n",
              "0                Quitinete       Copacabana  ...       500.0    60.0\n",
              "1                     Casa  Jardim Botânico  ...         NaN     NaN\n",
              "2  Conjunto Comercial/Sala  Barra da Tijuca  ...      4020.0  1111.0\n",
              "3              Apartamento           Centro  ...       390.0    20.0\n",
              "4              Apartamento     Higienópolis  ...       230.0     NaN\n",
              "\n",
              "[5 rows x 9 columns]"
            ]
          },
          "metadata": {
            "tags": []
          },
          "execution_count": 64
        }
      ]
    },
    {
      "cell_type": "code",
      "metadata": {
        "colab": {
          "base_uri": "https://localhost:8080/"
        },
        "id": "aCJZReuz553q",
        "outputId": "217b50c5-a01e-41d3-dc2d-b06a45c10ad9"
      },
      "source": [
        "dados_aluguel['Tipo']"
      ],
      "execution_count": 65,
      "outputs": [
        {
          "output_type": "execute_result",
          "data": {
            "text/plain": [
              "0                      Quitinete\n",
              "1                           Casa\n",
              "2        Conjunto Comercial/Sala\n",
              "3                    Apartamento\n",
              "4                    Apartamento\n",
              "                  ...           \n",
              "32955                  Quitinete\n",
              "32956                Apartamento\n",
              "32957                Apartamento\n",
              "32958                Apartamento\n",
              "32959    Conjunto Comercial/Sala\n",
              "Name: Tipo, Length: 32960, dtype: object"
            ]
          },
          "metadata": {
            "tags": []
          },
          "execution_count": 65
        }
      ]
    },
    {
      "cell_type": "code",
      "metadata": {
        "id": "hJdKfveZ6IRY"
      },
      "source": [
        "tipo_de_imovel = dados_aluguel[\"Tipo\"] "
      ],
      "execution_count": 66,
      "outputs": []
    },
    {
      "cell_type": "code",
      "metadata": {
        "colab": {
          "base_uri": "https://localhost:8080/"
        },
        "id": "BOhq1n8K7S09",
        "outputId": "d5c1ac1e-8fa2-4de5-a803-663f18876a98"
      },
      "source": [
        "type(tipo_de_imovel)"
      ],
      "execution_count": 67,
      "outputs": [
        {
          "output_type": "execute_result",
          "data": {
            "text/plain": [
              "pandas.core.series.Series"
            ]
          },
          "metadata": {
            "tags": []
          },
          "execution_count": 67
        }
      ]
    },
    {
      "cell_type": "code",
      "metadata": {
        "id": "WPlKyxjF7e0z"
      },
      "source": [
        "tipo_de_imovel.drop_duplicates(inplace=True) # retirando dados duplicados da lista"
      ],
      "execution_count": 68,
      "outputs": []
    },
    {
      "cell_type": "code",
      "metadata": {
        "colab": {
          "base_uri": "https://localhost:8080/"
        },
        "id": "S80-2wcI7oFh",
        "outputId": "dc67ea99-a78b-4654-a53a-9dd99d0bb9e1"
      },
      "source": [
        "tipo_de_imovel"
      ],
      "execution_count": 69,
      "outputs": [
        {
          "output_type": "execute_result",
          "data": {
            "text/plain": [
              "0                          Quitinete\n",
              "1                               Casa\n",
              "2            Conjunto Comercial/Sala\n",
              "3                        Apartamento\n",
              "7                 Casa de Condomínio\n",
              "16                    Prédio Inteiro\n",
              "17                              Flat\n",
              "29                        Loja/Salão\n",
              "80           Galpão/Depósito/Armazém\n",
              "83                    Casa Comercial\n",
              "117                     Casa de Vila\n",
              "159                   Terreno Padrão\n",
              "207                      Box/Garagem\n",
              "347                             Loft\n",
              "589      Loja Shopping/ Ct Comercial\n",
              "2157                         Chácara\n",
              "3354           Loteamento/Condomínio\n",
              "4379                           Sítio\n",
              "4721                   Pousada/Chalé\n",
              "6983                          Studio\n",
              "9687                           Hotel\n",
              "23614                      Indústria\n",
              "Name: Tipo, dtype: object"
            ]
          },
          "metadata": {
            "tags": []
          },
          "execution_count": 69
        }
      ]
    },
    {
      "cell_type": "code",
      "metadata": {
        "id": "XEIwx8d37-N8"
      },
      "source": [
        "tipo_de_imovel = pd.DataFrame(tipo_de_imovel) # criando dataframe com os tipos de Imóveis"
      ],
      "execution_count": 70,
      "outputs": []
    },
    {
      "cell_type": "code",
      "metadata": {
        "colab": {
          "base_uri": "https://localhost:8080/",
          "height": 680
        },
        "id": "AK4SZEL_8dPM",
        "outputId": "465ba6fb-a0c5-42b3-f589-33ca566946f9"
      },
      "source": [
        "tipo_de_imovel"
      ],
      "execution_count": 71,
      "outputs": [
        {
          "output_type": "execute_result",
          "data": {
            "text/html": [
              "<div>\n",
              "<style scoped>\n",
              "    .dataframe tbody tr th:only-of-type {\n",
              "        vertical-align: middle;\n",
              "    }\n",
              "\n",
              "    .dataframe tbody tr th {\n",
              "        vertical-align: top;\n",
              "    }\n",
              "\n",
              "    .dataframe thead th {\n",
              "        text-align: right;\n",
              "    }\n",
              "</style>\n",
              "<table border=\"1\" class=\"dataframe\">\n",
              "  <thead>\n",
              "    <tr style=\"text-align: right;\">\n",
              "      <th></th>\n",
              "      <th>Tipo</th>\n",
              "    </tr>\n",
              "  </thead>\n",
              "  <tbody>\n",
              "    <tr>\n",
              "      <th>0</th>\n",
              "      <td>Quitinete</td>\n",
              "    </tr>\n",
              "    <tr>\n",
              "      <th>1</th>\n",
              "      <td>Casa</td>\n",
              "    </tr>\n",
              "    <tr>\n",
              "      <th>2</th>\n",
              "      <td>Conjunto Comercial/Sala</td>\n",
              "    </tr>\n",
              "    <tr>\n",
              "      <th>3</th>\n",
              "      <td>Apartamento</td>\n",
              "    </tr>\n",
              "    <tr>\n",
              "      <th>7</th>\n",
              "      <td>Casa de Condomínio</td>\n",
              "    </tr>\n",
              "    <tr>\n",
              "      <th>16</th>\n",
              "      <td>Prédio Inteiro</td>\n",
              "    </tr>\n",
              "    <tr>\n",
              "      <th>17</th>\n",
              "      <td>Flat</td>\n",
              "    </tr>\n",
              "    <tr>\n",
              "      <th>29</th>\n",
              "      <td>Loja/Salão</td>\n",
              "    </tr>\n",
              "    <tr>\n",
              "      <th>80</th>\n",
              "      <td>Galpão/Depósito/Armazém</td>\n",
              "    </tr>\n",
              "    <tr>\n",
              "      <th>83</th>\n",
              "      <td>Casa Comercial</td>\n",
              "    </tr>\n",
              "    <tr>\n",
              "      <th>117</th>\n",
              "      <td>Casa de Vila</td>\n",
              "    </tr>\n",
              "    <tr>\n",
              "      <th>159</th>\n",
              "      <td>Terreno Padrão</td>\n",
              "    </tr>\n",
              "    <tr>\n",
              "      <th>207</th>\n",
              "      <td>Box/Garagem</td>\n",
              "    </tr>\n",
              "    <tr>\n",
              "      <th>347</th>\n",
              "      <td>Loft</td>\n",
              "    </tr>\n",
              "    <tr>\n",
              "      <th>589</th>\n",
              "      <td>Loja Shopping/ Ct Comercial</td>\n",
              "    </tr>\n",
              "    <tr>\n",
              "      <th>2157</th>\n",
              "      <td>Chácara</td>\n",
              "    </tr>\n",
              "    <tr>\n",
              "      <th>3354</th>\n",
              "      <td>Loteamento/Condomínio</td>\n",
              "    </tr>\n",
              "    <tr>\n",
              "      <th>4379</th>\n",
              "      <td>Sítio</td>\n",
              "    </tr>\n",
              "    <tr>\n",
              "      <th>4721</th>\n",
              "      <td>Pousada/Chalé</td>\n",
              "    </tr>\n",
              "    <tr>\n",
              "      <th>6983</th>\n",
              "      <td>Studio</td>\n",
              "    </tr>\n",
              "    <tr>\n",
              "      <th>9687</th>\n",
              "      <td>Hotel</td>\n",
              "    </tr>\n",
              "    <tr>\n",
              "      <th>23614</th>\n",
              "      <td>Indústria</td>\n",
              "    </tr>\n",
              "  </tbody>\n",
              "</table>\n",
              "</div>"
            ],
            "text/plain": [
              "                              Tipo\n",
              "0                        Quitinete\n",
              "1                             Casa\n",
              "2          Conjunto Comercial/Sala\n",
              "3                      Apartamento\n",
              "7               Casa de Condomínio\n",
              "16                  Prédio Inteiro\n",
              "17                            Flat\n",
              "29                      Loja/Salão\n",
              "80         Galpão/Depósito/Armazém\n",
              "83                  Casa Comercial\n",
              "117                   Casa de Vila\n",
              "159                 Terreno Padrão\n",
              "207                    Box/Garagem\n",
              "347                           Loft\n",
              "589    Loja Shopping/ Ct Comercial\n",
              "2157                       Chácara\n",
              "3354         Loteamento/Condomínio\n",
              "4379                         Sítio\n",
              "4721                 Pousada/Chalé\n",
              "6983                        Studio\n",
              "9687                         Hotel\n",
              "23614                    Indústria"
            ]
          },
          "metadata": {
            "tags": []
          },
          "execution_count": 71
        }
      ]
    },
    {
      "cell_type": "code",
      "metadata": {
        "colab": {
          "base_uri": "https://localhost:8080/"
        },
        "id": "VgnI1Hqa8fOj",
        "outputId": "021ad58e-9677-405d-f4bf-3ea83b3145fe"
      },
      "source": [
        "tipo_de_imovel.index  # index conjunto ordenado"
      ],
      "execution_count": 80,
      "outputs": [
        {
          "output_type": "execute_result",
          "data": {
            "text/plain": [
              "RangeIndex(start=0, stop=22, step=1)"
            ]
          },
          "metadata": {
            "tags": []
          },
          "execution_count": 80
        }
      ]
    },
    {
      "cell_type": "code",
      "metadata": {
        "colab": {
          "base_uri": "https://localhost:8080/"
        },
        "id": "52Vt_GR88qGo",
        "outputId": "61f1591f-72c1-41cd-cd65-7210d2f79bdb"
      },
      "source": [
        "tipo_de_imovel.shape[0] # numero de imóveis diferentes que existem"
      ],
      "execution_count": 73,
      "outputs": [
        {
          "output_type": "execute_result",
          "data": {
            "text/plain": [
              "22"
            ]
          },
          "metadata": {
            "tags": []
          },
          "execution_count": 73
        }
      ]
    },
    {
      "cell_type": "code",
      "metadata": {
        "colab": {
          "base_uri": "https://localhost:8080/"
        },
        "id": "M-VwF1HU8yOt",
        "outputId": "bc1d8d72-6afe-4c7e-f6fe-26b45b485b85"
      },
      "source": [
        "for i in range(tipo_de_imovel.shape[0]): # contador para ordenar os tipos de imóveis\n",
        "  print(i)"
      ],
      "execution_count": 74,
      "outputs": [
        {
          "output_type": "stream",
          "text": [
            "0\n",
            "1\n",
            "2\n",
            "3\n",
            "4\n",
            "5\n",
            "6\n",
            "7\n",
            "8\n",
            "9\n",
            "10\n",
            "11\n",
            "12\n",
            "13\n",
            "14\n",
            "15\n",
            "16\n",
            "17\n",
            "18\n",
            "19\n",
            "20\n",
            "21\n"
          ],
          "name": "stdout"
        }
      ]
    },
    {
      "cell_type": "code",
      "metadata": {
        "id": "EYQsxyw89Rzu"
      },
      "source": [
        "tipo_de_imovel.index = range(tipo_de_imovel.shape[0]) # para calcular o tamanho do tipo_imovel"
      ],
      "execution_count": 75,
      "outputs": []
    },
    {
      "cell_type": "code",
      "metadata": {
        "colab": {
          "base_uri": "https://localhost:8080/",
          "height": 680
        },
        "id": "EzlD8GJp9h46",
        "outputId": "968ec9cd-c2de-4409-e58f-49a2fd773ca3"
      },
      "source": [
        "tipo_de_imovel"
      ],
      "execution_count": 77,
      "outputs": [
        {
          "output_type": "execute_result",
          "data": {
            "text/html": [
              "<div>\n",
              "<style scoped>\n",
              "    .dataframe tbody tr th:only-of-type {\n",
              "        vertical-align: middle;\n",
              "    }\n",
              "\n",
              "    .dataframe tbody tr th {\n",
              "        vertical-align: top;\n",
              "    }\n",
              "\n",
              "    .dataframe thead th {\n",
              "        text-align: right;\n",
              "    }\n",
              "</style>\n",
              "<table border=\"1\" class=\"dataframe\">\n",
              "  <thead>\n",
              "    <tr style=\"text-align: right;\">\n",
              "      <th></th>\n",
              "      <th>Tipo</th>\n",
              "    </tr>\n",
              "  </thead>\n",
              "  <tbody>\n",
              "    <tr>\n",
              "      <th>0</th>\n",
              "      <td>Quitinete</td>\n",
              "    </tr>\n",
              "    <tr>\n",
              "      <th>1</th>\n",
              "      <td>Casa</td>\n",
              "    </tr>\n",
              "    <tr>\n",
              "      <th>2</th>\n",
              "      <td>Conjunto Comercial/Sala</td>\n",
              "    </tr>\n",
              "    <tr>\n",
              "      <th>3</th>\n",
              "      <td>Apartamento</td>\n",
              "    </tr>\n",
              "    <tr>\n",
              "      <th>4</th>\n",
              "      <td>Casa de Condomínio</td>\n",
              "    </tr>\n",
              "    <tr>\n",
              "      <th>5</th>\n",
              "      <td>Prédio Inteiro</td>\n",
              "    </tr>\n",
              "    <tr>\n",
              "      <th>6</th>\n",
              "      <td>Flat</td>\n",
              "    </tr>\n",
              "    <tr>\n",
              "      <th>7</th>\n",
              "      <td>Loja/Salão</td>\n",
              "    </tr>\n",
              "    <tr>\n",
              "      <th>8</th>\n",
              "      <td>Galpão/Depósito/Armazém</td>\n",
              "    </tr>\n",
              "    <tr>\n",
              "      <th>9</th>\n",
              "      <td>Casa Comercial</td>\n",
              "    </tr>\n",
              "    <tr>\n",
              "      <th>10</th>\n",
              "      <td>Casa de Vila</td>\n",
              "    </tr>\n",
              "    <tr>\n",
              "      <th>11</th>\n",
              "      <td>Terreno Padrão</td>\n",
              "    </tr>\n",
              "    <tr>\n",
              "      <th>12</th>\n",
              "      <td>Box/Garagem</td>\n",
              "    </tr>\n",
              "    <tr>\n",
              "      <th>13</th>\n",
              "      <td>Loft</td>\n",
              "    </tr>\n",
              "    <tr>\n",
              "      <th>14</th>\n",
              "      <td>Loja Shopping/ Ct Comercial</td>\n",
              "    </tr>\n",
              "    <tr>\n",
              "      <th>15</th>\n",
              "      <td>Chácara</td>\n",
              "    </tr>\n",
              "    <tr>\n",
              "      <th>16</th>\n",
              "      <td>Loteamento/Condomínio</td>\n",
              "    </tr>\n",
              "    <tr>\n",
              "      <th>17</th>\n",
              "      <td>Sítio</td>\n",
              "    </tr>\n",
              "    <tr>\n",
              "      <th>18</th>\n",
              "      <td>Pousada/Chalé</td>\n",
              "    </tr>\n",
              "    <tr>\n",
              "      <th>19</th>\n",
              "      <td>Studio</td>\n",
              "    </tr>\n",
              "    <tr>\n",
              "      <th>20</th>\n",
              "      <td>Hotel</td>\n",
              "    </tr>\n",
              "    <tr>\n",
              "      <th>21</th>\n",
              "      <td>Indústria</td>\n",
              "    </tr>\n",
              "  </tbody>\n",
              "</table>\n",
              "</div>"
            ],
            "text/plain": [
              "                           Tipo\n",
              "0                     Quitinete\n",
              "1                          Casa\n",
              "2       Conjunto Comercial/Sala\n",
              "3                   Apartamento\n",
              "4            Casa de Condomínio\n",
              "5                Prédio Inteiro\n",
              "6                          Flat\n",
              "7                    Loja/Salão\n",
              "8       Galpão/Depósito/Armazém\n",
              "9                Casa Comercial\n",
              "10                 Casa de Vila\n",
              "11               Terreno Padrão\n",
              "12                  Box/Garagem\n",
              "13                         Loft\n",
              "14  Loja Shopping/ Ct Comercial\n",
              "15                      Chácara\n",
              "16        Loteamento/Condomínio\n",
              "17                        Sítio\n",
              "18                Pousada/Chalé\n",
              "19                       Studio\n",
              "20                        Hotel\n",
              "21                    Indústria"
            ]
          },
          "metadata": {
            "tags": []
          },
          "execution_count": 77
        }
      ]
    },
    {
      "cell_type": "code",
      "metadata": {
        "id": "rYPzQ_Lp9l2b"
      },
      "source": [
        "tipo_de_imovel.columns.name = 'Id' # adicionando Id para os tipos de imóveis"
      ],
      "execution_count": 81,
      "outputs": []
    },
    {
      "cell_type": "code",
      "metadata": {
        "colab": {
          "base_uri": "https://localhost:8080/",
          "height": 680
        },
        "id": "CfLnJRE29uZ_",
        "outputId": "2c4608fa-6bfe-48a8-9919-0785a4a88933"
      },
      "source": [
        "tipo_de_imovel"
      ],
      "execution_count": 82,
      "outputs": [
        {
          "output_type": "execute_result",
          "data": {
            "text/html": [
              "<div>\n",
              "<style scoped>\n",
              "    .dataframe tbody tr th:only-of-type {\n",
              "        vertical-align: middle;\n",
              "    }\n",
              "\n",
              "    .dataframe tbody tr th {\n",
              "        vertical-align: top;\n",
              "    }\n",
              "\n",
              "    .dataframe thead th {\n",
              "        text-align: right;\n",
              "    }\n",
              "</style>\n",
              "<table border=\"1\" class=\"dataframe\">\n",
              "  <thead>\n",
              "    <tr style=\"text-align: right;\">\n",
              "      <th>Id</th>\n",
              "      <th>Tipo</th>\n",
              "    </tr>\n",
              "  </thead>\n",
              "  <tbody>\n",
              "    <tr>\n",
              "      <th>0</th>\n",
              "      <td>Quitinete</td>\n",
              "    </tr>\n",
              "    <tr>\n",
              "      <th>1</th>\n",
              "      <td>Casa</td>\n",
              "    </tr>\n",
              "    <tr>\n",
              "      <th>2</th>\n",
              "      <td>Conjunto Comercial/Sala</td>\n",
              "    </tr>\n",
              "    <tr>\n",
              "      <th>3</th>\n",
              "      <td>Apartamento</td>\n",
              "    </tr>\n",
              "    <tr>\n",
              "      <th>4</th>\n",
              "      <td>Casa de Condomínio</td>\n",
              "    </tr>\n",
              "    <tr>\n",
              "      <th>5</th>\n",
              "      <td>Prédio Inteiro</td>\n",
              "    </tr>\n",
              "    <tr>\n",
              "      <th>6</th>\n",
              "      <td>Flat</td>\n",
              "    </tr>\n",
              "    <tr>\n",
              "      <th>7</th>\n",
              "      <td>Loja/Salão</td>\n",
              "    </tr>\n",
              "    <tr>\n",
              "      <th>8</th>\n",
              "      <td>Galpão/Depósito/Armazém</td>\n",
              "    </tr>\n",
              "    <tr>\n",
              "      <th>9</th>\n",
              "      <td>Casa Comercial</td>\n",
              "    </tr>\n",
              "    <tr>\n",
              "      <th>10</th>\n",
              "      <td>Casa de Vila</td>\n",
              "    </tr>\n",
              "    <tr>\n",
              "      <th>11</th>\n",
              "      <td>Terreno Padrão</td>\n",
              "    </tr>\n",
              "    <tr>\n",
              "      <th>12</th>\n",
              "      <td>Box/Garagem</td>\n",
              "    </tr>\n",
              "    <tr>\n",
              "      <th>13</th>\n",
              "      <td>Loft</td>\n",
              "    </tr>\n",
              "    <tr>\n",
              "      <th>14</th>\n",
              "      <td>Loja Shopping/ Ct Comercial</td>\n",
              "    </tr>\n",
              "    <tr>\n",
              "      <th>15</th>\n",
              "      <td>Chácara</td>\n",
              "    </tr>\n",
              "    <tr>\n",
              "      <th>16</th>\n",
              "      <td>Loteamento/Condomínio</td>\n",
              "    </tr>\n",
              "    <tr>\n",
              "      <th>17</th>\n",
              "      <td>Sítio</td>\n",
              "    </tr>\n",
              "    <tr>\n",
              "      <th>18</th>\n",
              "      <td>Pousada/Chalé</td>\n",
              "    </tr>\n",
              "    <tr>\n",
              "      <th>19</th>\n",
              "      <td>Studio</td>\n",
              "    </tr>\n",
              "    <tr>\n",
              "      <th>20</th>\n",
              "      <td>Hotel</td>\n",
              "    </tr>\n",
              "    <tr>\n",
              "      <th>21</th>\n",
              "      <td>Indústria</td>\n",
              "    </tr>\n",
              "  </tbody>\n",
              "</table>\n",
              "</div>"
            ],
            "text/plain": [
              "Id                         Tipo\n",
              "0                     Quitinete\n",
              "1                          Casa\n",
              "2       Conjunto Comercial/Sala\n",
              "3                   Apartamento\n",
              "4            Casa de Condomínio\n",
              "5                Prédio Inteiro\n",
              "6                          Flat\n",
              "7                    Loja/Salão\n",
              "8       Galpão/Depósito/Armazém\n",
              "9                Casa Comercial\n",
              "10                 Casa de Vila\n",
              "11               Terreno Padrão\n",
              "12                  Box/Garagem\n",
              "13                         Loft\n",
              "14  Loja Shopping/ Ct Comercial\n",
              "15                      Chácara\n",
              "16        Loteamento/Condomínio\n",
              "17                        Sítio\n",
              "18                Pousada/Chalé\n",
              "19                       Studio\n",
              "20                        Hotel\n",
              "21                    Indústria"
            ]
          },
          "metadata": {
            "tags": []
          },
          "execution_count": 82
        }
      ]
    },
    {
      "cell_type": "markdown",
      "metadata": {
        "id": "bXV9rL4S_ZdJ"
      },
      "source": [
        "# Imóveis Residenciais"
      ]
    },
    {
      "cell_type": "code",
      "metadata": {
        "colab": {
          "base_uri": "https://localhost:8080/",
          "height": 191
        },
        "id": "V9gxO0pW_dBe",
        "outputId": "226418e9-3531-45a2-a545-06a4f8821c6d"
      },
      "source": [
        "dados_aluguel.head()"
      ],
      "execution_count": 84,
      "outputs": [
        {
          "output_type": "execute_result",
          "data": {
            "text/html": [
              "<div>\n",
              "<style scoped>\n",
              "    .dataframe tbody tr th:only-of-type {\n",
              "        vertical-align: middle;\n",
              "    }\n",
              "\n",
              "    .dataframe tbody tr th {\n",
              "        vertical-align: top;\n",
              "    }\n",
              "\n",
              "    .dataframe thead th {\n",
              "        text-align: right;\n",
              "    }\n",
              "</style>\n",
              "<table border=\"1\" class=\"dataframe\">\n",
              "  <thead>\n",
              "    <tr style=\"text-align: right;\">\n",
              "      <th></th>\n",
              "      <th>Tipo</th>\n",
              "      <th>Bairro</th>\n",
              "      <th>Quartos</th>\n",
              "      <th>Vagas</th>\n",
              "      <th>Suites</th>\n",
              "      <th>Area</th>\n",
              "      <th>Valor</th>\n",
              "      <th>Condominio</th>\n",
              "      <th>IPTU</th>\n",
              "    </tr>\n",
              "  </thead>\n",
              "  <tbody>\n",
              "    <tr>\n",
              "      <th>0</th>\n",
              "      <td>Quitinete</td>\n",
              "      <td>Copacabana</td>\n",
              "      <td>1</td>\n",
              "      <td>0</td>\n",
              "      <td>0</td>\n",
              "      <td>40</td>\n",
              "      <td>1700.0</td>\n",
              "      <td>500.0</td>\n",
              "      <td>60.0</td>\n",
              "    </tr>\n",
              "    <tr>\n",
              "      <th>1</th>\n",
              "      <td>Casa</td>\n",
              "      <td>Jardim Botânico</td>\n",
              "      <td>2</td>\n",
              "      <td>0</td>\n",
              "      <td>1</td>\n",
              "      <td>100</td>\n",
              "      <td>7000.0</td>\n",
              "      <td>NaN</td>\n",
              "      <td>NaN</td>\n",
              "    </tr>\n",
              "    <tr>\n",
              "      <th>2</th>\n",
              "      <td>Conjunto Comercial/Sala</td>\n",
              "      <td>Barra da Tijuca</td>\n",
              "      <td>0</td>\n",
              "      <td>4</td>\n",
              "      <td>0</td>\n",
              "      <td>150</td>\n",
              "      <td>5200.0</td>\n",
              "      <td>4020.0</td>\n",
              "      <td>1111.0</td>\n",
              "    </tr>\n",
              "    <tr>\n",
              "      <th>3</th>\n",
              "      <td>Apartamento</td>\n",
              "      <td>Centro</td>\n",
              "      <td>1</td>\n",
              "      <td>0</td>\n",
              "      <td>0</td>\n",
              "      <td>15</td>\n",
              "      <td>800.0</td>\n",
              "      <td>390.0</td>\n",
              "      <td>20.0</td>\n",
              "    </tr>\n",
              "    <tr>\n",
              "      <th>4</th>\n",
              "      <td>Apartamento</td>\n",
              "      <td>Higienópolis</td>\n",
              "      <td>1</td>\n",
              "      <td>0</td>\n",
              "      <td>0</td>\n",
              "      <td>48</td>\n",
              "      <td>800.0</td>\n",
              "      <td>230.0</td>\n",
              "      <td>NaN</td>\n",
              "    </tr>\n",
              "  </tbody>\n",
              "</table>\n",
              "</div>"
            ],
            "text/plain": [
              "                      Tipo           Bairro  ...  Condominio    IPTU\n",
              "0                Quitinete       Copacabana  ...       500.0    60.0\n",
              "1                     Casa  Jardim Botânico  ...         NaN     NaN\n",
              "2  Conjunto Comercial/Sala  Barra da Tijuca  ...      4020.0  1111.0\n",
              "3              Apartamento           Centro  ...       390.0    20.0\n",
              "4              Apartamento     Higienópolis  ...       230.0     NaN\n",
              "\n",
              "[5 rows x 9 columns]"
            ]
          },
          "metadata": {
            "tags": []
          },
          "execution_count": 84
        }
      ]
    },
    {
      "cell_type": "code",
      "metadata": {
        "colab": {
          "base_uri": "https://localhost:8080/"
        },
        "id": "3xerf3PZ_iU4",
        "outputId": "81eb24cb-d999-40e6-a737-285859b81a4f"
      },
      "source": [
        "list(dados_aluguel['Tipo'].drop_duplicates())"
      ],
      "execution_count": 86,
      "outputs": [
        {
          "output_type": "execute_result",
          "data": {
            "text/plain": [
              "['Quitinete',\n",
              " 'Casa',\n",
              " 'Conjunto Comercial/Sala',\n",
              " 'Apartamento',\n",
              " 'Casa de Condomínio',\n",
              " 'Prédio Inteiro',\n",
              " 'Flat',\n",
              " 'Loja/Salão',\n",
              " 'Galpão/Depósito/Armazém',\n",
              " 'Casa Comercial',\n",
              " 'Casa de Vila',\n",
              " 'Terreno Padrão',\n",
              " 'Box/Garagem',\n",
              " 'Loft',\n",
              " 'Loja Shopping/ Ct Comercial',\n",
              " 'Chácara',\n",
              " 'Loteamento/Condomínio',\n",
              " 'Sítio',\n",
              " 'Pousada/Chalé',\n",
              " 'Studio',\n",
              " 'Hotel',\n",
              " 'Indústria']"
            ]
          },
          "metadata": {
            "tags": []
          },
          "execution_count": 86
        }
      ]
    },
    {
      "cell_type": "code",
      "metadata": {
        "id": "ssJ8a1zQ_t9h"
      },
      "source": [
        "residencial = ['Quiti']"
      ],
      "execution_count": null,
      "outputs": []
    }
  ]
}